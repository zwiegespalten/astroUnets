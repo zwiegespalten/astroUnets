{
 "cells": [
  {
   "cell_type": "code",
   "execution_count": null,
   "metadata": {},
   "outputs": [],
   "source": [
    "from tensorflow.keras.layers import Input, Conv2D, Conv2DTranspose, MaxPooling2D, BatchNormalization, LeakyReLU, Concatenate\n",
    "from tensorflow.keras.models import Model\n",
    "import tensorflow as tf"
   ]
  },
  {
   "cell_type": "code",
   "execution_count": null,
   "metadata": {},
   "outputs": [],
   "source": [
    "def conv_batch_max(input_tensor, number_of_channels, filter_size, pooling_size):\n",
    "    conv = Conv2D(number_of_channels, filter_size, activation=None)(input_tensor)\n",
    "    bn = BatchNormalization()(conv)\n",
    "    conv = LeakyReLU()(bn)\n",
    "    conv = Conv2D(number_of_channels, filter_size, activation=None)(conv)\n",
    "    bn = BatchNormalization()(conv)\n",
    "    conv = LeakyReLU()(bn)\n",
    "    pool = MaxPooling2D(pooling_size, padding='same')(conv)\n",
    "    return conv, pool\n",
    "\n",
    "def deconvolve_and_concat(input_layer, previous_layer, filter_size, exp_time=None, exp=False):\n",
    "    output_channels = previous_layer.shape[-1]\n",
    "    deconv = Conv2DTranspose(\n",
    "        filters=output_channels,\n",
    "        kernel_size=2,\n",
    "        strides=2,\n",
    "        padding='same',\n",
    "        kernel_initializer=tf.keras.initializers.TruncatedNormal(mean=0, stddev=0.02)\n",
    "    )(input_layer)\n",
    "    if not exp:\n",
    "        deconv_output = Concatenate(axis=3)([deconv, previous_layer])\n",
    "    else:\n",
    "        cons = tf.fill(tf.shape(deconv), exp_time)\n",
    "        c = tf.slice(cons, [0, 0, 0, 0], [-1, -1, -1, 1])\n",
    "        deconv_output = Concatenate(axis=3)([deconv, previous_layer, c])\n",
    "        \n",
    "    deconv = Conv2D(output_channels, [filter_size, filter_size], activation=None)(deconv_output)\n",
    "    deconv = BatchNormalization()(deconv)\n",
    "    deconv = LeakyReLU()(deconv)\n",
    "    deconv = Conv2D(output_channels, [filter_size, filter_size], activation=None)(deconv)\n",
    "    deconv = BatchNormalization()(deconv)\n",
    "    deconv = LeakyReLU()(deconv)\n",
    "    return deconv\n",
    "\n",
    "def network(input_shape, e, steps, filter_size, pooling_size, n_of_initial_channels):\n",
    "    convs = []\n",
    "    pools = []\n",
    "    input_tensor = Input(shape=input_shape)\n",
    "    x = input_tensor\n",
    "    \n",
    "    for _ in range(steps):\n",
    "        conv, pool = conv_batch_max(x, n_of_initial_channels, filter_size, pooling_size)\n",
    "        convs.append(conv)\n",
    "        pools.append(pool)\n",
    "        x = pool\n",
    "        n_of_initial_channels *= 2\n",
    "    \n",
    "    convs.pop()\n",
    "    for _ in range(steps - 1):\n",
    "        x = deconvolve_and_concat(x, convs.pop(), filter_size)\n",
    "    \n",
    "    output_tensor = Conv2D(1, [1, 1], activation=None)(x)\n",
    "    model = Model(inputs=input_tensor, outputs=output_tensor)\n",
    "    return model\n"
   ]
  },
  {
   "cell_type": "code",
   "execution_count": 8,
   "metadata": {},
   "outputs": [
    {
     "ename": "TypeError",
     "evalue": "network() got an unexpected keyword argument 'input_shape'",
     "output_type": "error",
     "traceback": [
      "\u001b[1;31m---------------------------------------------------------------------------\u001b[0m",
      "\u001b[1;31mTypeError\u001b[0m                                 Traceback (most recent call last)",
      "Cell \u001b[1;32mIn[8], line 1\u001b[0m\n\u001b[1;32m----> 1\u001b[0m model \u001b[38;5;241m=\u001b[39m \u001b[43mnetwork\u001b[49m\u001b[43m(\u001b[49m\u001b[43minput_shape\u001b[49m\u001b[38;5;241;43m=\u001b[39;49m\u001b[43m(\u001b[49m\u001b[38;5;241;43m128\u001b[39;49m\u001b[43m,\u001b[49m\u001b[43m \u001b[49m\u001b[38;5;241;43m128\u001b[39;49m\u001b[43m,\u001b[49m\u001b[43m \u001b[49m\u001b[38;5;241;43m3\u001b[39;49m\u001b[43m)\u001b[49m\u001b[43m,\u001b[49m\u001b[43m \u001b[49m\u001b[43me\u001b[49m\u001b[38;5;241;43m=\u001b[39;49m\u001b[38;5;241;43m0.1\u001b[39;49m\u001b[43m,\u001b[49m\u001b[43m \u001b[49m\u001b[43msteps\u001b[49m\u001b[38;5;241;43m=\u001b[39;49m\u001b[38;5;241;43m5\u001b[39;49m\u001b[43m,\u001b[49m\u001b[43m \u001b[49m\u001b[43mfilter_size\u001b[49m\u001b[38;5;241;43m=\u001b[39;49m\u001b[38;5;241;43m3\u001b[39;49m\u001b[43m,\u001b[49m\u001b[43m \u001b[49m\u001b[43mpooling_size\u001b[49m\u001b[38;5;241;43m=\u001b[39;49m\u001b[38;5;241;43m2\u001b[39;49m\u001b[43m,\u001b[49m\u001b[43m \u001b[49m\u001b[43mn_of_initial_channels\u001b[49m\u001b[38;5;241;43m=\u001b[39;49m\u001b[38;5;241;43m32\u001b[39;49m\u001b[43m)\u001b[49m\n\u001b[0;32m      2\u001b[0m model\u001b[38;5;241m.\u001b[39msummary()\n",
      "\u001b[1;31mTypeError\u001b[0m: network() got an unexpected keyword argument 'input_shape'"
     ]
    }
   ],
   "source": [
    "model = network(input_shape=(128, 128, 3), e=0.1, steps=5, filter_size=3, pooling_size=2, n_of_initial_channels=32)\n",
    "model.summary()"
   ]
  },
  {
   "cell_type": "code",
   "execution_count": null,
   "metadata": {},
   "outputs": [],
   "source": []
  }
 ],
 "metadata": {
  "kernelspec": {
   "display_name": "Python 3",
   "language": "python",
   "name": "python3"
  },
  "language_info": {
   "codemirror_mode": {
    "name": "ipython",
    "version": 3
   },
   "file_extension": ".py",
   "mimetype": "text/x-python",
   "name": "python",
   "nbconvert_exporter": "python",
   "pygments_lexer": "ipython3",
   "version": "3.11.10"
  }
 },
 "nbformat": 4,
 "nbformat_minor": 2
}
