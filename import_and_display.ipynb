{
 "cells": [
  {
   "cell_type": "code",
   "execution_count": null,
   "metadata": {},
   "outputs": [
    {
     "name": "stdout",
     "output_type": "stream",
     "text": [
      "Collecting astropy\n",
      "  Downloading astropy-6.0.1-cp39-cp39-win_amd64.whl.metadata (10 kB)\n",
      "Requirement already satisfied: numpy<2,>=1.22 in c:\\users\\admin\\anaconda3\\envs\\eren\\lib\\site-packages (from astropy) (1.26.4)\n",
      "Collecting pyerfa>=2.0.1.1 (from astropy)\n",
      "  Downloading pyerfa-2.0.1.5-cp39-abi3-win_amd64.whl.metadata (5.9 kB)\n",
      "Collecting astropy-iers-data>=0.2024.2.26.0.28.55 (from astropy)\n",
      "  Downloading astropy_iers_data-0.2024.11.11.0.32.38-py3-none-any.whl.metadata (5.1 kB)\n",
      "Requirement already satisfied: PyYAML>=3.13 in c:\\users\\admin\\anaconda3\\envs\\eren\\lib\\site-packages (from astropy) (6.0.1)\n",
      "Requirement already satisfied: packaging>=19.0 in c:\\users\\admin\\anaconda3\\envs\\eren\\lib\\site-packages (from astropy) (21.3)\n",
      "Requirement already satisfied: pyparsing!=3.0.5,>=2.0.2 in c:\\users\\admin\\anaconda3\\envs\\eren\\lib\\site-packages (from packaging>=19.0->astropy) (2.4.7)\n",
      "Downloading astropy-6.0.1-cp39-cp39-win_amd64.whl (6.4 MB)\n",
      "   ---------------------------------------- 0.0/6.4 MB ? eta -:--:--\n",
      "   ---------------------------------------- 0.0/6.4 MB 1.4 MB/s eta 0:00:05\n",
      "    --------------------------------------- 0.1/6.4 MB 2.1 MB/s eta 0:00:03\n",
      "   - -------------------------------------- 0.3/6.4 MB 2.8 MB/s eta 0:00:03\n",
      "   - -------------------------------------- 0.3/6.4 MB 2.2 MB/s eta 0:00:03\n",
      "   --- ------------------------------------ 0.5/6.4 MB 3.0 MB/s eta 0:00:02\n",
      "   --- ------------------------------------ 0.5/6.4 MB 3.0 MB/s eta 0:00:02\n",
      "   ---- ----------------------------------- 0.7/6.4 MB 2.4 MB/s eta 0:00:03\n",
      "   ----- ---------------------------------- 0.9/6.4 MB 2.8 MB/s eta 0:00:02\n",
      "   ------- -------------------------------- 1.1/6.4 MB 3.0 MB/s eta 0:00:02\n",
      "   -------- ------------------------------- 1.4/6.4 MB 3.2 MB/s eta 0:00:02\n",
      "   ---------- ----------------------------- 1.7/6.4 MB 3.4 MB/s eta 0:00:02\n",
      "   ----------- ---------------------------- 1.8/6.4 MB 3.5 MB/s eta 0:00:02\n",
      "   ----------- ---------------------------- 1.8/6.4 MB 3.2 MB/s eta 0:00:02\n",
      "   --------------- ------------------------ 2.5/6.4 MB 4.1 MB/s eta 0:00:01\n",
      "   ----------------- ---------------------- 2.8/6.4 MB 4.3 MB/s eta 0:00:01\n",
      "   ------------------- -------------------- 3.1/6.4 MB 4.4 MB/s eta 0:00:01\n",
      "   ---------------------- ----------------- 3.5/6.4 MB 4.5 MB/s eta 0:00:01\n",
      "   ----------------------- ---------------- 3.8/6.4 MB 4.7 MB/s eta 0:00:01\n",
      "   ------------------------- -------------- 4.1/6.4 MB 4.7 MB/s eta 0:00:01\n",
      "   --------------------------- ------------ 4.4/6.4 MB 4.9 MB/s eta 0:00:01\n",
      "   ----------------------------- ---------- 4.7/6.4 MB 4.9 MB/s eta 0:00:01\n",
      "   ------------------------------- -------- 5.0/6.4 MB 4.9 MB/s eta 0:00:01\n",
      "   --------------------------------- ------ 5.3/6.4 MB 5.1 MB/s eta 0:00:01\n",
      "   ---------------------------------- ----- 5.5/6.4 MB 5.1 MB/s eta 0:00:01\n",
      "   ------------------------------------- -- 5.9/6.4 MB 5.2 MB/s eta 0:00:01\n",
      "   ---------------------------------------  6.3/6.4 MB 5.3 MB/s eta 0:00:01\n",
      "   ---------------------------------------  6.4/6.4 MB 5.2 MB/s eta 0:00:01\n",
      "   ---------------------------------------  6.4/6.4 MB 5.2 MB/s eta 0:00:01\n",
      "   ---------------------------------------- 6.4/6.4 MB 4.8 MB/s eta 0:00:00\n",
      "Downloading astropy_iers_data-0.2024.11.11.0.32.38-py3-none-any.whl (1.9 MB)\n",
      "   ---------------------------------------- 0.0/1.9 MB ? eta -:--:--\n",
      "   ------ --------------------------------- 0.3/1.9 MB 7.0 MB/s eta 0:00:01\n",
      "   ------------- -------------------------- 0.6/1.9 MB 8.1 MB/s eta 0:00:01\n",
      "   -------------------- ------------------- 1.0/1.9 MB 6.8 MB/s eta 0:00:01\n",
      "   -------------------------- ------------- 1.3/1.9 MB 6.8 MB/s eta 0:00:01\n",
      "   ------------------------------- -------- 1.5/1.9 MB 6.5 MB/s eta 0:00:01\n",
      "   ------------------------------------- -- 1.8/1.9 MB 6.8 MB/s eta 0:00:01\n",
      "   ---------------------------------------- 1.9/1.9 MB 6.2 MB/s eta 0:00:00\n",
      "Downloading pyerfa-2.0.1.5-cp39-abi3-win_amd64.whl (349 kB)\n",
      "   ---------------------------------------- 0.0/349.4 kB ? eta -:--:--\n",
      "   ------------------------------------ --- 317.4/349.4 kB 6.5 MB/s eta 0:00:01\n",
      "   ---------------------------------------- 349.4/349.4 kB 4.3 MB/s eta 0:00:00\n",
      "Installing collected packages: pyerfa, astropy-iers-data, astropy\n",
      "Successfully installed astropy-6.0.1 astropy-iers-data-0.2024.11.11.0.32.38 pyerfa-2.0.1.5\n"
     ]
    }
   ],
   "source": [
    "!pip install astropy"
   ]
  },
  {
   "cell_type": "code",
   "execution_count": 2,
   "metadata": {},
   "outputs": [
    {
     "name": "stderr",
     "output_type": "stream",
     "text": [
      "Matplotlib is building the font cache; this may take a moment.\n"
     ]
    }
   ],
   "source": [
    "from astropy.io import fits\n",
    "import numpy as np\n",
    "import matplotlib.pyplot as plt\n",
    "import os"
   ]
  },
  {
   "cell_type": "code",
   "execution_count": 14,
   "metadata": {},
   "outputs": [],
   "source": [
    "def open_and_display(filepath, export=False):\n",
    "    with fits.open(filepath) as hdul:\n",
    "        # Display the FITS file structure\n",
    "        hdul.info()\n",
    "        # Extract the image data (usually in the first HDU)\n",
    "        image_data = hdul[0].data\n",
    "        shape = image_data.shape\n",
    "\n",
    "    if export:\n",
    "        # Display and Import\n",
    "        dpi = 100\n",
    "        plt.figure(figsize=(round(shape[0]/dpi), round(shape[1]/dpi)))\n",
    "        plt.imshow(image_data, cmap='gray', origin='lower')\n",
    "        plt.axis('off')  # Hide the axis\n",
    "        plt.savefig(os.path.basename(filepath).replace('.fits', '.png'), dpi=dpi, bbox_inches='tight', pad_inches=0)\n",
    "        plt.close()\n",
    "    else:\n",
    "        plt.imshow(image_data, cmap='gray')\n",
    "        plt.colorbar()\n",
    "        plt.title(f'{os.path.basename(filepath)}')\n",
    "        plt.show()\n",
    "\n",
    "def traverse_folder(folder):\n",
    "    folders = [f'{folder}/{f}' for f in os.listdir(folder) if os.path.isdir(f'{folder}/{f}')]\n",
    "    images = [f'{folder}/{f}' for f in os.listdir(folder) if f.endswith('.fits')]\n",
    "    for folder in folders:\n",
    "        images.append(traverse_folder(folder))\n",
    "    return images\n",
    "\n",
    "def find_imagepaths(file_list):\n",
    "    for index, elm in enumerate(file_list):\n",
    "        if isinstance(elm, list):\n",
    "            yield from find_imagepaths(elm)\n",
    "        else:\n",
    "            if index == 0:\n",
    "                folder = '/'.join(elm.split('/')[0:-1])\n",
    "                print(f'starting a new folder: {folder}')\n",
    "            yield elm\n",
    "\n",
    "CURRENT_DIR = os.getcwd() \n",
    "FILEPATHS_IMAGES = traverse_folder(CURRENT_DIR)"
   ]
  },
  {
   "cell_type": "code",
   "execution_count": 16,
   "metadata": {},
   "outputs": [
    {
     "name": "stdout",
     "output_type": "stream",
     "text": [
      "starting a new folder: d:\\astro_images/tiles/drz-sci\n",
      "starting a new folder: d:\\astro_images/tiles/drz-wht\n",
      "Filename: d:\\astro_images/tiles/drz-wht/hlsp_3d-dash_hst_wfc3_combined-t02.06-cosmos_f160w_v1.0_drz-wht.fits\n",
      "No.    Name      Ver    Type      Cards   Dimensions   Format\n",
      "  0  PRIMARY       1 PrimaryHDU     156   (4096, 4096)   float32   \n",
      "Filename: d:\\astro_images/tiles/drz-sci/hlsp_3d-dash_hst_wfc3_combined-t03.08-cosmos_f160w_v1.0_drz-sci.fits\n",
      "No.    Name      Ver    Type      Cards   Dimensions   Format\n",
      "  0  PRIMARY       1 PrimaryHDU     198   (4096, 4096)   float32   \n",
      "Filename: d:\\astro_images/tiles/drz-sci/hlsp_3d-dash_hst_wfc3_combined-t13.10-cosmos_f160w_v1.0_drz-sci.fits\n",
      "No.    Name      Ver    Type      Cards   Dimensions   Format\n",
      "  0  PRIMARY       1 PrimaryHDU     118   (4096, 4096)   float32   \n",
      "Filename: d:\\astro_images/tiles/drz-wht/hlsp_3d-dash_hst_wfc3_combined-t13.06-cosmos_f160w_v1.0_drz-wht.fits\n",
      "No.    Name      Ver    Type      Cards   Dimensions   Format\n",
      "  0  PRIMARY       1 PrimaryHDU      87   (4096, 4096)   float32   \n",
      "Filename: d:\\astro_images/tiles/drz-sci/hlsp_3d-dash_hst_wfc3_combined-t06.11-cosmos_f160w_v1.0_drz-sci.fits\n",
      "No.    Name      Ver    Type      Cards   Dimensions   Format\n",
      "  0  PRIMARY       1 PrimaryHDU     194   (4096, 4096)   float32   \n",
      "Filename: d:\\astro_images/tiles/drz-sci/hlsp_3d-dash_hst_wfc3_combined-t09.08-cosmos_f160w_v1.0_drz-sci.fits\n",
      "No.    Name      Ver    Type      Cards   Dimensions   Format\n",
      "  0  PRIMARY       1 PrimaryHDU     193   (4096, 4096)   float32   \n",
      "Filename: d:\\astro_images/tiles/drz-sci/hlsp_3d-dash_hst_wfc3_combined-t13.06-cosmos_f160w_v1.0_drz-sci.fits\n",
      "No.    Name      Ver    Type      Cards   Dimensions   Format\n",
      "  0  PRIMARY       1 PrimaryHDU      87   (4096, 4096)   float32   \n",
      "Filename: d:\\astro_images/tiles/drz-sci/hlsp_3d-dash_hst_wfc3_combined-t08.12-cosmos_f160w_v1.0_drz-sci.fits\n",
      "No.    Name      Ver    Type      Cards   Dimensions   Format\n",
      "  0  PRIMARY       1 PrimaryHDU     217   (4096, 4096)   float32   \n",
      "Filename: d:\\astro_images/tiles/drz-sci/hlsp_3d-dash_hst_wfc3_combined-t07.12-cosmos_f160w_v1.0_drz-sci.fits\n",
      "No.    Name      Ver    Type      Cards   Dimensions   Format\n",
      "  0  PRIMARY       1 PrimaryHDU     217   (4096, 4096)   float32   \n",
      "Filename: d:\\astro_images/tiles/drz-wht/hlsp_3d-dash_hst_wfc3_combined-t04.07-cosmos_f160w_v1.0_drz-wht.fits\n",
      "No.    Name      Ver    Type      Cards   Dimensions   Format\n",
      "  0  PRIMARY       1 PrimaryHDU     251   (4096, 4096)   float32   \n"
     ]
    }
   ],
   "source": [
    "def __main_():\n",
    "    all_image_filepaths = [filepath for filepath in find_imagepaths(FILEPATHS_IMAGES)]\n",
    "    #print(all_image_filepaths)\n",
    "    n_of_images = 10\n",
    "    indices = np.random.randint(0, len(all_image_filepaths), size=(n_of_images),)\n",
    "\n",
    "    for index in indices:\n",
    "        open_and_display(all_image_filepaths[index], export=True)\n",
    "        \n",
    "__main_()\n"
   ]
  },
  {
   "cell_type": "code",
   "execution_count": null,
   "metadata": {},
   "outputs": [],
   "source": []
  },
  {
   "cell_type": "code",
   "execution_count": null,
   "metadata": {},
   "outputs": [],
   "source": []
  },
  {
   "cell_type": "code",
   "execution_count": null,
   "metadata": {},
   "outputs": [],
   "source": []
  }
 ],
 "metadata": {
  "kernelspec": {
   "display_name": "Python 3",
   "language": "python",
   "name": "python3"
  },
  "language_info": {
   "codemirror_mode": {
    "name": "ipython",
    "version": 3
   },
   "file_extension": ".py",
   "mimetype": "text/x-python",
   "name": "python",
   "nbconvert_exporter": "python",
   "pygments_lexer": "ipython3",
   "version": "3.11.10"
  }
 },
 "nbformat": 4,
 "nbformat_minor": 2
}
